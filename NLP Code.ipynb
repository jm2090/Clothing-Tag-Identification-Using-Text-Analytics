{
 "cells": [
  {
   "cell_type": "markdown",
   "metadata": {},
   "source": [
    "# Project Phase 2\n",
    "# Team Purple"
   ]
  },
  {
   "cell_type": "markdown",
   "metadata": {},
   "source": [
    "## Notebook Description\n",
    "\n",
    "**Executive Summary**\n",
    "- This notebook builds a recommendation system for the outfit combinations file using Product ID and/or free text.\n",
    "- The notebook allows a user to enter inputs – either product IDs or product descriptions and details - and returns recommended outfits.\n",
    "- We tried different vectorization techniques, using Word2Vec, Word2Vec weighted average by TF-IDF, 1-Hot encoding\n",
    "- We then calculated a similarity score between the user's input and the existing Product ID, descriptions and Full names in the database, in order to find the best match for the given input\n",
    "\n",
    "> We finally choose Word2vec embeddings (Skipgram) as our final model. It uses the 'Spacy' library to generate document vectors by averaging individual word vectors "
   ]
  },
  {
   "cell_type": "code",
   "execution_count": 1,
   "metadata": {},
   "outputs": [
    {
     "name": "stderr",
     "output_type": "stream",
     "text": [
      "C:\\Users\\rajat\\Anaconda3\\lib\\site-packages\\fuzzywuzzy\\fuzz.py:11: UserWarning: Using slow pure-python SequenceMatcher. Install python-Levenshtein to remove this warning\n",
      "  warnings.warn('Using slow pure-python SequenceMatcher. Install python-Levenshtein to remove this warning')\n",
      "Using TensorFlow backend.\n",
      "WARNING:root:Limited tf.compat.v2.summary API due to missing TensorBoard installation.\n",
      "WARNING:root:Limited tf.compat.v2.summary API due to missing TensorBoard installation.\n",
      "WARNING:root:Limited tf.compat.v2.summary API due to missing TensorBoard installation.\n",
      "WARNING:root:Limited tf.compat.v2.summary API due to missing TensorBoard installation.\n",
      "WARNING:root:Limited tf.compat.v2.summary API due to missing TensorBoard installation.\n",
      "WARNING:root:Limited tf.compat.v2.summary API due to missing TensorBoard installation.\n",
      "WARNING:root:Limited tf.summary API due to missing TensorBoard installation.\n"
     ]
    }
   ],
   "source": [
    "# Importing relevant libraries\n",
    "\n",
    "import pandas as pd\n",
    "import re\n",
    "import nltk\n",
    "import spacy\n",
    "from nltk.corpus import stopwords \n",
    "from nltk.tokenize import word_tokenize\n",
    "import numpy as np\n",
    "from numpy import array, argmax, asarray, zeros\n",
    "from sklearn.feature_extraction.text import TfidfVectorizer, CountVectorizer\n",
    "from sklearn.model_selection import train_test_split\n",
    "from sklearn.metrics.pairwise import cosine_similarity\n",
    "from fuzzywuzzy import fuzz\n",
    "from tabulate import tabulate\n",
    "from scipy.spatial.distance import cosine\n",
    "from keras.preprocessing.text import Tokenizer\n",
    "from gensim.test.utils import common_texts\n",
    "from gensim.models.doc2vec import Doc2Vec, TaggedDocument\n",
    "import warnings\n",
    "warnings.filterwarnings(\"ignore\")\n",
    "nlp = spacy.load(\"en_core_web_md\")"
   ]
  },
  {
   "cell_type": "code",
   "execution_count": 2,
   "metadata": {},
   "outputs": [
    {
     "data": {
      "text/html": [
       "<div>\n",
       "<style scoped>\n",
       "    .dataframe tbody tr th:only-of-type {\n",
       "        vertical-align: middle;\n",
       "    }\n",
       "\n",
       "    .dataframe tbody tr th {\n",
       "        vertical-align: top;\n",
       "    }\n",
       "\n",
       "    .dataframe thead th {\n",
       "        text-align: right;\n",
       "    }\n",
       "</style>\n",
       "<table border=\"1\" class=\"dataframe\">\n",
       "  <thead>\n",
       "    <tr style=\"text-align: right;\">\n",
       "      <th></th>\n",
       "      <th>outfit_id</th>\n",
       "      <th>product_id</th>\n",
       "      <th>outfit_item_type</th>\n",
       "      <th>brand</th>\n",
       "      <th>product_full_name</th>\n",
       "      <th>product description</th>\n",
       "    </tr>\n",
       "  </thead>\n",
       "  <tbody>\n",
       "    <tr>\n",
       "      <td>0</td>\n",
       "      <td>01DDBHC62ES5K80P0KYJ56AM2T</td>\n",
       "      <td>01DMBRYVA2P5H24WK0HTK4R0A1</td>\n",
       "      <td>bottom</td>\n",
       "      <td>Eileen Fisher</td>\n",
       "      <td>Slim Knit Skirt</td>\n",
       "      <td>A nice skirt</td>\n",
       "    </tr>\n",
       "    <tr>\n",
       "      <td>1</td>\n",
       "      <td>01DDBHC62ES5K80P0KYJ56AM2T</td>\n",
       "      <td>01DMBRYVA2PEPWFTT7RMP5AA1T</td>\n",
       "      <td>top</td>\n",
       "      <td>Eileen Fisher</td>\n",
       "      <td>Rib Mock Neck Tank</td>\n",
       "      <td>A nice tank</td>\n",
       "    </tr>\n",
       "    <tr>\n",
       "      <td>2</td>\n",
       "      <td>01DDBHC62ES5K80P0KYJ56AM2T</td>\n",
       "      <td>01DMBRYVA2S5T9W793F4CY41HE</td>\n",
       "      <td>accessory1</td>\n",
       "      <td>kate spade new york</td>\n",
       "      <td>medium margaux leather satchel</td>\n",
       "      <td>A nice bag</td>\n",
       "    </tr>\n",
       "    <tr>\n",
       "      <td>3</td>\n",
       "      <td>01DDBHC62ES5K80P0KYJ56AM2T</td>\n",
       "      <td>01DMBRYVA2ZFDYRYY5TRQZJTBD</td>\n",
       "      <td>shoe</td>\n",
       "      <td>Tory Burch</td>\n",
       "      <td>Penelope Mid Cap Toe Pump</td>\n",
       "      <td>A nice shoe</td>\n",
       "    </tr>\n",
       "    <tr>\n",
       "      <td>4</td>\n",
       "      <td>01DMHCX50CFX5YNG99F3Y65GQW</td>\n",
       "      <td>01DMBRYVA2P5H24WK0HTK4R0A1</td>\n",
       "      <td>bottom</td>\n",
       "      <td>Eileen Fisher</td>\n",
       "      <td>Slim Knit Skirt</td>\n",
       "      <td>A nice skirt</td>\n",
       "    </tr>\n",
       "  </tbody>\n",
       "</table>\n",
       "</div>"
      ],
      "text/plain": [
       "                    outfit_id                  product_id outfit_item_type  \\\n",
       "0  01DDBHC62ES5K80P0KYJ56AM2T  01DMBRYVA2P5H24WK0HTK4R0A1           bottom   \n",
       "1  01DDBHC62ES5K80P0KYJ56AM2T  01DMBRYVA2PEPWFTT7RMP5AA1T              top   \n",
       "2  01DDBHC62ES5K80P0KYJ56AM2T  01DMBRYVA2S5T9W793F4CY41HE       accessory1   \n",
       "3  01DDBHC62ES5K80P0KYJ56AM2T  01DMBRYVA2ZFDYRYY5TRQZJTBD             shoe   \n",
       "4  01DMHCX50CFX5YNG99F3Y65GQW  01DMBRYVA2P5H24WK0HTK4R0A1           bottom   \n",
       "\n",
       "                 brand               product_full_name product description  \n",
       "0        Eileen Fisher                 Slim Knit Skirt        A nice skirt  \n",
       "1        Eileen Fisher              Rib Mock Neck Tank         A nice tank  \n",
       "2  kate spade new york  medium margaux leather satchel          A nice bag  \n",
       "3           Tory Burch       Penelope Mid Cap Toe Pump         A nice shoe  \n",
       "4        Eileen Fisher                 Slim Knit Skirt        A nice skirt  "
      ]
     },
     "execution_count": 2,
     "metadata": {},
     "output_type": "execute_result"
    }
   ],
   "source": [
    "# Reading Outfit Combinations Provided by Experts\n",
    "## We have merged Product Description from Part 1 on Product ID as unique key\n",
    "data = pd.read_csv(\"outfit_combinations_description.csv\")\n",
    "\n",
    "# Replacing Null values in product description with blank space\n",
    "data['product description'] = data['product description'].fillna('')\n",
    "data.head()"
   ]
  },
  {
   "cell_type": "code",
   "execution_count": 3,
   "metadata": {},
   "outputs": [],
   "source": [
    "# Defining Recommendation Function\n",
    "## This function returns a randomly chosen set of outfit combinations for a given product ID\n",
    "\n",
    "def recommendation(prod_id):\n",
    "    df_product = data[data['product_id'] == prod_id].reset_index(drop = True)\n",
    "    outfit_type = df_product.loc[0,\"outfit_item_type\"]\n",
    "    print(f\"Outfit type for product id {prod_id} is :\",outfit_type,\"\\n\")\n",
    "    \n",
    "    outfit_id_show = list(np.random.choice(a = list(df_product['outfit_id']), size = 1))\n",
    "    df_outfit = data[data['outfit_id'] == outfit_id_show[0]]\n",
    "    print(f\"Matching Outfit ID is :\",outfit_id_show[0],\"\\n\")\n",
    "    output = df_outfit['outfit_item_type']+ \": \"+ df_outfit['product_full_name']+ \" (\" + df_outfit['product_id'] + \")\"\n",
    "    return output"
   ]
  },
  {
   "cell_type": "markdown",
   "metadata": {},
   "source": [
    "# Product ID Input\n",
    "*if user has the Product ID, they can enter it in the cell below, and get the corresponding outfit recommendations*"
   ]
  },
  {
   "cell_type": "code",
   "execution_count": 4,
   "metadata": {},
   "outputs": [
    {
     "name": "stdout",
     "output_type": "stream",
     "text": [
      "Outfit type for product id 01DMBRYVA2ZFDYRYY5TRQZJTBD is : shoe \n",
      "\n",
      "Matching Outfit ID is : 01DMHRX35M2DPVYVQ1PNER4S4B \n",
      "\n",
      "outfit_id\n",
      "------------------------------------------------------------\n",
      "onepiece: Chemelle Midi Dress (01DMBRYVA2Q2ST7MNYR6EEY4TK)\n",
      "shoe: Penelope Mid Cap Toe Pump (01DMBRYVA2ZFDYRYY5TRQZJTBD)\n",
      "accessory1: Crystal Clutch (01DMHCNT41E14QWP503V7CT9G6)\n"
     ]
    }
   ],
   "source": [
    "  # User Input\n",
    "prod_id = \"01DMBRYVA2ZFDYRYY5TRQZJTBD\"            # <----- ENTER INPUT HERE\n",
    "\n",
    "\n",
    "# Removes any white spaces to give a contiguous string for exact match\n",
    "prod_id = ''.join(prod_id.split())\n",
    "\n",
    "## Assigns productID similarity score to each row using Fuzzywuzzy library\n",
    "## Chooses list of top 3 unique scores as suggested product IDs, in case of no exact match\n",
    "## User may choose one of the suggested 3 IDs, and re-enter in the user input space (in Line 2 above)\n",
    "\n",
    "df = data.copy()\n",
    "df['fuzz_score'] = data[\"product_id\"].apply(lambda x: fuzz.ratio(x,prod_id.upper()))\n",
    "df = df.sort_values(by = 'fuzz_score', ascending = False)\n",
    "matches = list(pd.Series(df['product_id'].unique())[:3])\n",
    "\n",
    "# If a perfect match is found then recommendation function is called\n",
    "if (df['fuzz_score'] == 100).any():\n",
    "    output = pd.DataFrame(recommendation(prod_id),columns = [\"Recommended Outfit Combination:\"]).reset_index(drop = True)\n",
    "    print(tabulate(output, showindex=False, headers=df.columns))\n",
    "   \n",
    "# If a perfect match is not found then similar product IDs are suggested\n",
    "else:\n",
    "   print(f'{prod_id} not found\\n\\nSuggested Product IDs {matches}')\n",
    "    "
   ]
  },
  {
   "cell_type": "markdown",
   "metadata": {},
   "source": [
    "# Product Description Input\n",
    "*if user does not have a Prouct ID, they can enter the prodcut's Brand and/or description in the cell below, and get the corresponding outfit recommendations*"
   ]
  },
  {
   "cell_type": "code",
   "execution_count": 25,
   "metadata": {},
   "outputs": [],
   "source": [
    "# Brand and Description input\n",
    "## ENTER Brand and product description information below\n",
    "## In case any information is missing, jut enter blank string, i.e., ''\n",
    "\n",
    "brand = \"Reformation\"\n",
    "description = \"Sexy silky, a-line mini skirt zipper Benson skirt\" "
   ]
  },
  {
   "cell_type": "markdown",
   "metadata": {},
   "source": [
    "### Cleaning the input text"
   ]
  },
  {
   "cell_type": "code",
   "execution_count": 26,
   "metadata": {},
   "outputs": [
    {
     "data": {
      "text/plain": [
       "'Sexy silky a-line mini skirt zipper Benson skirt'"
      ]
     },
     "execution_count": 26,
     "metadata": {},
     "output_type": "execute_result"
    }
   ],
   "source": [
    "# Stores the descriotion in a temporary test variable\n",
    "test_desc = description\n",
    "\n",
    "# Remove Punctuations from the input text\n",
    "punctuation = \"!@#$%^&*()_+<>?:.,;\"  \n",
    "    \n",
    "for c in test_desc:\n",
    "    if c in punctuation:\n",
    "        test_desc = test_desc.replace(c, \"\")\n",
    "\n",
    "# Remove Stopwords from input text\n",
    "stop_words = set(stopwords.words('english')) \n",
    "word_tokens = word_tokenize(test_desc) \n",
    "test_desc = [w for w in word_tokens if not w in stop_words] \n",
    "test_desc = [] \n",
    "for w in word_tokens: \n",
    "    if w not in stop_words: \n",
    "        test_desc.append(w) \n",
    "test_desc = ' '.join(test_desc)\n",
    "test_desc"
   ]
  },
  {
   "cell_type": "markdown",
   "metadata": {},
   "source": [
    "### Determine Outfit Type\n",
    "- Find the most relevant words (eg: common nouns) associated with each outfit item type\n",
    "- When a test query/document is submitted on user interface, this query is parsed to check with what outfit item type(s) it matches using regular expression\n",
    "- Once we know the possible outfit item types,\n",
    "we find the most similar product by filtering dataset on these outfit item types only."
   ]
  },
  {
   "cell_type": "code",
   "execution_count": 27,
   "metadata": {},
   "outputs": [],
   "source": [
    "# Regex to identify right category for filtering\n",
    "shoe=r'(boot|sandal|pump|mule|sneaker|loafer|slingback|flat|slide|croc)'\n",
    "top=r'(shirt|sweater|top|blouse|turtleneck|jersey|tee|bodysuit|neck|sleeve|jacket|coat|cardigan|blazer|sweater|hoodie|pullover|bomber|vest|camisole|dickey|puffer)'\n",
    "bottom=r'(leg|pant|skirt|jean|rise|midi|short|trouser)'\n",
    "onepiece = r'(dress|jumpsuit|wrap|stretch|maxi|midi|larina|francoise|polka|shirt|sweater|top|blouse|turtleneck|jersey|tee|bodysuit|neck|sleeveleg|pant|skirt|jean|rise|short|trouser|jacket|coat|cardigan|blazer|sweater|hoodie|pullover|bomber|mirella|vest|camisole|dickey|charmeuse|puffer)'\n",
    "accessory1=r'(bag|tote|croc|tori|clutch|mini|scarf|cabinet|top|bucket|backpack|hammock|belt|lazo|handle|box|saddle|amal|protea|drawstring|saffiano|camera|wallet|chain|charmeuse|pouch|puffer|margaux|jacket|coat|cardigan|wrap|belt|blazer|sweater|shirt|hoodie|dickey|camisole|sunglasses|vest|shawl|mirella|pullover|bomber|aviator)'\n",
    "accessory2=r'(bag|tote|croc|tori|clutch|mini|scarf|cabinet|top|bucket|backpack|hammock|belt|lazo|handle|box|saddle|amal|protea|drawstring|saffiano|camera|wallet|chain|charmeuse|pouch|puffer|margaux|jacket|coat|cardigan|wrap|belt|blazer|sweater|shirt|hoodie|dickey|camisole|sunglasses|vest|shawl|mirella|pullover|bomber|aviator)'\n",
    "accessory3= r'(coat)'"
   ]
  },
  {
   "cell_type": "code",
   "execution_count": 28,
   "metadata": {},
   "outputs": [
    {
     "data": {
      "text/plain": [
       "['bottom', 'onepiece', 'accessory1', 'accessory2']"
      ]
     },
     "execution_count": 28,
     "metadata": {},
     "output_type": "execute_result"
    }
   ],
   "source": [
    "# Determining Potential outfit categories using the above Regex\n",
    "\n",
    "# outfitTypes is a dictionary to map 'outfit item type' with it's regular expression created above\n",
    "outfitTypes={'top':top,'bottom':bottom,'shoe':shoe,'onepiece':onepiece,'accessory1':accessory1,'accessory2':accessory2,'accessory3':accessory3}\n",
    "outfits = [outfit for outfit in outfitTypes if re.search(outfitTypes[outfit],test_desc,flags=re.IGNORECASE)]\n",
    "outfits"
   ]
  },
  {
   "cell_type": "code",
   "execution_count": 29,
   "metadata": {},
   "outputs": [
    {
     "data": {
      "text/html": [
       "<div>\n",
       "<style scoped>\n",
       "    .dataframe tbody tr th:only-of-type {\n",
       "        vertical-align: middle;\n",
       "    }\n",
       "\n",
       "    .dataframe tbody tr th {\n",
       "        vertical-align: top;\n",
       "    }\n",
       "\n",
       "    .dataframe thead th {\n",
       "        text-align: right;\n",
       "    }\n",
       "</style>\n",
       "<table border=\"1\" class=\"dataframe\">\n",
       "  <thead>\n",
       "    <tr style=\"text-align: right;\">\n",
       "      <th></th>\n",
       "      <th>outfit_id</th>\n",
       "      <th>product_id</th>\n",
       "      <th>outfit_item_type</th>\n",
       "      <th>brand</th>\n",
       "      <th>product_full_name</th>\n",
       "      <th>product description</th>\n",
       "    </tr>\n",
       "  </thead>\n",
       "  <tbody>\n",
       "    <tr>\n",
       "      <td>0</td>\n",
       "      <td>01DDBHC62ES5K80P0KYJ56AM2T</td>\n",
       "      <td>01DMBRYVA2P5H24WK0HTK4R0A1</td>\n",
       "      <td>bottom</td>\n",
       "      <td>Eileen Fisher</td>\n",
       "      <td>Slim Knit Skirt</td>\n",
       "      <td>A nice skirt</td>\n",
       "    </tr>\n",
       "    <tr>\n",
       "      <td>1</td>\n",
       "      <td>01DDBHC62ES5K80P0KYJ56AM2T</td>\n",
       "      <td>01DMBRYVA2S5T9W793F4CY41HE</td>\n",
       "      <td>accessory1</td>\n",
       "      <td>kate spade new york</td>\n",
       "      <td>medium margaux leather satchel</td>\n",
       "      <td>A nice bag</td>\n",
       "    </tr>\n",
       "    <tr>\n",
       "      <td>2</td>\n",
       "      <td>01DMHCX50CFX5YNG99F3Y65GQW</td>\n",
       "      <td>01DMBRYVA2P5H24WK0HTK4R0A1</td>\n",
       "      <td>bottom</td>\n",
       "      <td>Eileen Fisher</td>\n",
       "      <td>Slim Knit Skirt</td>\n",
       "      <td>A nice skirt</td>\n",
       "    </tr>\n",
       "    <tr>\n",
       "      <td>3</td>\n",
       "      <td>01DMHCX50CFX5YNG99F3Y65GQW</td>\n",
       "      <td>01DMHCNT41E14QWP503V7CT9G6</td>\n",
       "      <td>accessory1</td>\n",
       "      <td>Nina</td>\n",
       "      <td>Crystal Clutch</td>\n",
       "      <td>A nice clutch</td>\n",
       "    </tr>\n",
       "    <tr>\n",
       "      <td>4</td>\n",
       "      <td>01DMHRX35M2DPVYVQ1PNER4S4B</td>\n",
       "      <td>01DMBRYVA2Q2ST7MNYR6EEY4TK</td>\n",
       "      <td>onepiece</td>\n",
       "      <td>Equipment</td>\n",
       "      <td>Chemelle Midi Dress</td>\n",
       "      <td>A nice dress</td>\n",
       "    </tr>\n",
       "  </tbody>\n",
       "</table>\n",
       "</div>"
      ],
      "text/plain": [
       "                    outfit_id                  product_id outfit_item_type  \\\n",
       "0  01DDBHC62ES5K80P0KYJ56AM2T  01DMBRYVA2P5H24WK0HTK4R0A1           bottom   \n",
       "1  01DDBHC62ES5K80P0KYJ56AM2T  01DMBRYVA2S5T9W793F4CY41HE       accessory1   \n",
       "2  01DMHCX50CFX5YNG99F3Y65GQW  01DMBRYVA2P5H24WK0HTK4R0A1           bottom   \n",
       "3  01DMHCX50CFX5YNG99F3Y65GQW  01DMHCNT41E14QWP503V7CT9G6       accessory1   \n",
       "4  01DMHRX35M2DPVYVQ1PNER4S4B  01DMBRYVA2Q2ST7MNYR6EEY4TK         onepiece   \n",
       "\n",
       "                 brand               product_full_name product description  \n",
       "0        Eileen Fisher                 Slim Knit Skirt        A nice skirt  \n",
       "1  kate spade new york  medium margaux leather satchel          A nice bag  \n",
       "2        Eileen Fisher                 Slim Knit Skirt        A nice skirt  \n",
       "3                 Nina                  Crystal Clutch       A nice clutch  \n",
       "4            Equipment             Chemelle Midi Dress        A nice dress  "
      ]
     },
     "execution_count": 29,
     "metadata": {},
     "output_type": "execute_result"
    }
   ],
   "source": [
    "# Filtering data to the outfit categories found above\n",
    "## We use this filtering to search in a subset of the dataframe (only for the categories identified)\n",
    "## This will make search faster and give more accurate results\n",
    "\n",
    "outfit_data = data.copy()\n",
    "\n",
    "if outfits != []:\n",
    "    outfit_data = data[data['outfit_item_type'].isin(outfits)].reset_index(drop = True)\n",
    "outfit_data.head()"
   ]
  },
  {
   "cell_type": "markdown",
   "metadata": {},
   "source": [
    "### Determine Brand\n",
    "- Find close matches to the brand entered by the user, based on FuzzyWuzzy library, with cutoff of 85\n",
    "- If a close match is found, we filter the outfit data further for the given brand"
   ]
  },
  {
   "cell_type": "code",
   "execution_count": 30,
   "metadata": {},
   "outputs": [
    {
     "data": {
      "text/html": [
       "<div>\n",
       "<style scoped>\n",
       "    .dataframe tbody tr th:only-of-type {\n",
       "        vertical-align: middle;\n",
       "    }\n",
       "\n",
       "    .dataframe tbody tr th {\n",
       "        vertical-align: top;\n",
       "    }\n",
       "\n",
       "    .dataframe thead th {\n",
       "        text-align: right;\n",
       "    }\n",
       "</style>\n",
       "<table border=\"1\" class=\"dataframe\">\n",
       "  <thead>\n",
       "    <tr style=\"text-align: right;\">\n",
       "      <th></th>\n",
       "      <th>outfit_id</th>\n",
       "      <th>product_id</th>\n",
       "      <th>outfit_item_type</th>\n",
       "      <th>brand</th>\n",
       "      <th>product_full_name</th>\n",
       "      <th>product description</th>\n",
       "    </tr>\n",
       "  </thead>\n",
       "  <tbody>\n",
       "    <tr>\n",
       "      <td>8</td>\n",
       "      <td>01DQ63P636Q4BQVCKT6Z4S41G5</td>\n",
       "      <td>01DPKMGJ33SDFXM7XHGPQJWQ12</td>\n",
       "      <td>bottom</td>\n",
       "      <td>Reformation</td>\n",
       "      <td>Benson Skirt</td>\n",
       "      <td>Sexy silky. This is an a-line mini skirt with ...</td>\n",
       "    </tr>\n",
       "    <tr>\n",
       "      <td>10</td>\n",
       "      <td>01DQ86EH3GMXAVKNECH2Z6FCSV</td>\n",
       "      <td>01DPKNJ6J1NQPQ1D3DBKWK5ARS</td>\n",
       "      <td>onepiece</td>\n",
       "      <td>Reformation</td>\n",
       "      <td>Rosamund Dress</td>\n",
       "      <td>Let your dress do the work. This is a midi len...</td>\n",
       "    </tr>\n",
       "    <tr>\n",
       "      <td>12</td>\n",
       "      <td>01DQ8KWVX1GBJTPTVDAC6NQ9B4</td>\n",
       "      <td>01DPKNJA2K022V3KP077611MKC</td>\n",
       "      <td>bottom</td>\n",
       "      <td>Reformation</td>\n",
       "      <td>Everett Pant</td>\n",
       "      <td>It's cold. Put some pants on. This is a high r...</td>\n",
       "    </tr>\n",
       "    <tr>\n",
       "      <td>14</td>\n",
       "      <td>01DQ8ME3M3QS9MQGZCQHXDHE1R</td>\n",
       "      <td>01DPKMH0D252JKMAA27MFCT5GM</td>\n",
       "      <td>bottom</td>\n",
       "      <td>Reformation</td>\n",
       "      <td>Marlon Pant</td>\n",
       "      <td>Let your pants do the talking. This is a slim ...</td>\n",
       "    </tr>\n",
       "    <tr>\n",
       "      <td>15</td>\n",
       "      <td>01DQ8MQAVBFSGHJXCF5JCYJ7A6</td>\n",
       "      <td>01DPKMKG14KT68YQY0MWA1CAA8</td>\n",
       "      <td>bottom</td>\n",
       "      <td>Reformation</td>\n",
       "      <td>Julia Crop High Cigarette Jean</td>\n",
       "      <td>Better butts. This is a high rise, rigid jean ...</td>\n",
       "    </tr>\n",
       "  </tbody>\n",
       "</table>\n",
       "</div>"
      ],
      "text/plain": [
       "                     outfit_id                  product_id outfit_item_type  \\\n",
       "8   01DQ63P636Q4BQVCKT6Z4S41G5  01DPKMGJ33SDFXM7XHGPQJWQ12           bottom   \n",
       "10  01DQ86EH3GMXAVKNECH2Z6FCSV  01DPKNJ6J1NQPQ1D3DBKWK5ARS         onepiece   \n",
       "12  01DQ8KWVX1GBJTPTVDAC6NQ9B4  01DPKNJA2K022V3KP077611MKC           bottom   \n",
       "14  01DQ8ME3M3QS9MQGZCQHXDHE1R  01DPKMH0D252JKMAA27MFCT5GM           bottom   \n",
       "15  01DQ8MQAVBFSGHJXCF5JCYJ7A6  01DPKMKG14KT68YQY0MWA1CAA8           bottom   \n",
       "\n",
       "          brand               product_full_name  \\\n",
       "8   Reformation                    Benson Skirt   \n",
       "10  Reformation                  Rosamund Dress   \n",
       "12  Reformation                    Everett Pant   \n",
       "14  Reformation                     Marlon Pant   \n",
       "15  Reformation  Julia Crop High Cigarette Jean   \n",
       "\n",
       "                                  product description  \n",
       "8   Sexy silky. This is an a-line mini skirt with ...  \n",
       "10  Let your dress do the work. This is a midi len...  \n",
       "12  It's cold. Put some pants on. This is a high r...  \n",
       "14  Let your pants do the talking. This is a slim ...  \n",
       "15  Better butts. This is a high rise, rigid jean ...  "
      ]
     },
     "execution_count": 30,
     "metadata": {},
     "output_type": "execute_result"
    }
   ],
   "source": [
    "# Filtering data with specific brand if a brand match is found in the data\n",
    "\n",
    "brand_data = outfit_data.copy()\n",
    "\n",
    "if brand != \"\":\n",
    "    brand_data['fuzz_score'] = brand_data[\"brand\"].str.lower().apply(lambda x: fuzz.ratio(x,brand.lower()))\n",
    "    brand_data = brand_data[brand_data['fuzz_score'] > 85].drop('fuzz_score',axis=1)\n",
    "\n",
    "brand_data.head()"
   ]
  },
  {
   "cell_type": "markdown",
   "metadata": {},
   "source": [
    "### Declaring Relevant functions"
   ]
  },
  {
   "cell_type": "code",
   "execution_count": 31,
   "metadata": {},
   "outputs": [],
   "source": [
    "## Finding most similar document's product ID and relevant outfit combination for the dataset filtered  from above\n",
    "## We calculate 2 separate cosine similarity scores: one for Description and 1 for Product_Full_Name\n",
    "\n",
    "def subset_prodid(test_doc): \n",
    "    df2 = brand_data.copy()\n",
    "\n",
    "    test=[]\n",
    "    score_desc=[]\n",
    "    score_full_name = []\n",
    "    for idx,row in df2.iterrows():\n",
    "        descr=row['product description']\n",
    "        full_name = row['product_full_name']\n",
    "        org=nlp(descr)\n",
    "        org2 = nlp(full_name)\n",
    "        score_desc.append(test_doc.similarity(org))\n",
    "        score_full_name.append(test_doc.similarity(org2))\n",
    "        test.append(test_doc)\n",
    "    df2['test_doc']=test\n",
    "    df2['score_sim_full_name'] = score_full_name\n",
    "    df2['score_sim_desc']=score_desc\n",
    "\n",
    "    # If the user input is longer than 20 characters, we give higher weightage to Description\n",
    "    if (len_test_desc>20):\n",
    "        df2['score_sim'] = 0.7*df2['score_sim_desc'] + 0.3* df2['score_sim_full_name']\n",
    "    \n",
    "    # If the user input is less than 20 characters, we take the maximum of Similarity scores received from Description and Full_name\n",
    "    # This gives higher weightage to Full_Name as Full Name column is generally 15-20 characters\n",
    "    else:\n",
    "        df2['score_sim'] = df2[['score_sim_desc','score_sim_full_name']].max(axis = 1) \n",
    "    df2 = df2.sort_values(by='score_sim',ascending=False).reset_index()\n",
    "    df2.head()\n",
    "    tar_prodid=df2.loc[0,\"product_id\"] \n",
    "    tar_prodid  \n",
    "    return tar_prodid   \n",
    "\n",
    "# This function generates a word2vec vector, does a weighted average TF-IDF score, to give higher weightage to relevant words\n",
    "\n",
    "def word2vec_TFIDF(data,X):\n",
    "    X = X.transform(data)\n",
    "\n",
    "    tf_idf_lookup_table = pd.DataFrame(X.toarray(), columns=vectorizer.get_feature_names())\n",
    "    \n",
    "\n",
    "    DOCUMENT_SUM_COLUMN = \"DOCUMENT_TF_IDF_SUM\"\n",
    "\n",
    "    # sum the tf idf scores for each document\n",
    "    tf_idf_lookup_table[DOCUMENT_SUM_COLUMN] = tf_idf_lookup_table.sum(axis=1)\n",
    "    available_tf_idf_scores = tf_idf_lookup_table.columns # a list of all the columns we have\n",
    "    available_tf_idf_scores = list(map( lambda x: x.lower(), available_tf_idf_scores)) # lowercase everything\n",
    "\n",
    "    row_vectors = []\n",
    "    for idx, row in enumerate(data): # iterate through each review\n",
    "        tokens = nlp(row) # have spacy tokenize the review text\n",
    "\n",
    "        # initially start a running total of tf-idf scores for a document\n",
    "        total_tf_idf_score_per_document = 0\n",
    "\n",
    "        # start a running total of initially all zeroes (300 is picked since that is the word embedding size used by word2vec)\n",
    "        running_total_word_embedding = np.zeros(300) \n",
    "        for token in tokens: # iterate through each token\n",
    "\n",
    "        # if the token has a pretrained word embedding it also has a tf-idf score\n",
    "            if token.has_vector and token.text.lower() in available_tf_idf_scores:\n",
    "\n",
    "                tf_idf_score = tf_idf_lookup_table.loc[idx, token.text.lower()]\n",
    "                #print(f\"{token} has tf-idf score of {tf_idf_lookup_table.loc[idx, token.text.lower()]}\")\n",
    "                running_total_word_embedding += tf_idf_score * token.vector\n",
    "\n",
    "                total_tf_idf_score_per_document += tf_idf_score\n",
    "\n",
    "        # divide the total embedding by the total tf-idf score for each document\n",
    "        document_embedding = running_total_word_embedding / total_tf_idf_score_per_document\n",
    "        row_vectors.append(document_embedding)\n",
    "    return row_vectors"
   ]
  },
  {
   "cell_type": "markdown",
   "metadata": {},
   "source": [
    "# Method 1 - Using Word Embeddings from Spacy\n",
    "# (Final Output)"
   ]
  },
  {
   "cell_type": "code",
   "execution_count": 32,
   "metadata": {},
   "outputs": [
    {
     "name": "stdout",
     "output_type": "stream",
     "text": [
      "Outfit type for product id 01DPKMGJ33SDFXM7XHGPQJWQ12 is : bottom \n",
      "\n",
      "Matching Outfit ID is : 01DQ63P636Q4BQVCKT6Z4S41G5 \n",
      "\n",
      "outfit_id\n",
      "-------------------------------------------------------------\n",
      "shoe: Pointed-toe flats in suede (01DPCRZWX4S2Z8Q5HYDFM4HNEG)\n",
      "top: Ashlynn Blouse (01DPET2NWSA221STZF740BZ9SW)\n",
      "bottom: Benson Skirt (01DPKMGJ33SDFXM7XHGPQJWQ12)\n"
     ]
    }
   ],
   "source": [
    "# Calculating the total # of characters of the input query\n",
    "len_test_desc = sum(len(word) for word in test_desc)\n",
    "\n",
    "# Calculating scores on filtered subset of the original dataframe and returns outfit recommendations\n",
    "prod_id = subset_prodid(nlp(test_desc))\n",
    "output = pd.DataFrame(recommendation(prod_id),columns = [\"Recommended Outfit Combination:\"]).reset_index(drop = True)\n",
    "print(tabulate(output, showindex=False, headers=df.columns))"
   ]
  },
  {
   "cell_type": "markdown",
   "metadata": {},
   "source": [
    "# Other Methods Tried"
   ]
  },
  {
   "cell_type": "markdown",
   "metadata": {},
   "source": [
    "# Method 2 - Using Weighted Average Word Embeddings "
   ]
  },
  {
   "cell_type": "code",
   "execution_count": 13,
   "metadata": {},
   "outputs": [
    {
     "data": {
      "text/html": [
       "<div>\n",
       "<style scoped>\n",
       "    .dataframe tbody tr th:only-of-type {\n",
       "        vertical-align: middle;\n",
       "    }\n",
       "\n",
       "    .dataframe tbody tr th {\n",
       "        vertical-align: top;\n",
       "    }\n",
       "\n",
       "    .dataframe thead th {\n",
       "        text-align: right;\n",
       "    }\n",
       "</style>\n",
       "<table border=\"1\" class=\"dataframe\">\n",
       "  <thead>\n",
       "    <tr style=\"text-align: right;\">\n",
       "      <th></th>\n",
       "      <th>outfit_id</th>\n",
       "      <th>product_id</th>\n",
       "      <th>outfit_item_type</th>\n",
       "      <th>brand</th>\n",
       "      <th>product_full_name</th>\n",
       "      <th>product description</th>\n",
       "    </tr>\n",
       "  </thead>\n",
       "  <tbody>\n",
       "    <tr>\n",
       "      <td>0</td>\n",
       "      <td>01DDBHC62ES5K80P0KYJ56AM2T</td>\n",
       "      <td>01DMBRYVA2ZFDYRYY5TRQZJTBD</td>\n",
       "      <td>shoe</td>\n",
       "      <td>Tory Burch</td>\n",
       "      <td>Penelope Mid Cap Toe Pump</td>\n",
       "      <td>A nice shoe</td>\n",
       "    </tr>\n",
       "  </tbody>\n",
       "</table>\n",
       "</div>"
      ],
      "text/plain": [
       "                    outfit_id                  product_id outfit_item_type  \\\n",
       "0  01DDBHC62ES5K80P0KYJ56AM2T  01DMBRYVA2ZFDYRYY5TRQZJTBD             shoe   \n",
       "\n",
       "        brand          product_full_name product description  \n",
       "0  Tory Burch  Penelope Mid Cap Toe Pump         A nice shoe  "
      ]
     },
     "execution_count": 13,
     "metadata": {},
     "output_type": "execute_result"
    }
   ],
   "source": [
    "brand_data.head(1)"
   ]
  },
  {
   "cell_type": "code",
   "execution_count": 19,
   "metadata": {
    "scrolled": true
   },
   "outputs": [
    {
     "name": "stdout",
     "output_type": "stream",
     "text": [
      "Outfit type for product id 01DMHCNT41E14QWP503V7CT9G6 is : accessory1 \n",
      "\n",
      "Matching Outfit ID is : 01DMHRX35M2DPVYVQ1PNER4S4B \n",
      "\n"
     ]
    },
    {
     "data": {
      "text/plain": [
       "8     onepiece: Chemelle Midi Dress (01DMBRYVA2Q2ST7...\n",
       "9     shoe: Penelope Mid Cap Toe Pump (01DMBRYVA2ZFD...\n",
       "10    accessory1: Crystal Clutch (01DMHCNT41E14QWP50...\n",
       "dtype: object"
      ]
     },
     "execution_count": 19,
     "metadata": {},
     "output_type": "execute_result"
    }
   ],
   "source": [
    "# pd.set_option('display.max_colwidth', None)\n",
    "\n",
    "data_list = list(brand_data['product_full_name'] + ' ' + brand_data['product description'])\n",
    "\n",
    "vectorizer = TfidfVectorizer()\n",
    "X = vectorizer.fit(data_list)\n",
    "train_vec = word2vec_TFIDF(data_list,X)\n",
    "\n",
    "test_vec = word2vec_TFIDF([test_desc],X)\n",
    "test_vec = [list(test_vec[0])]\n",
    "\n",
    "sim_score = []\n",
    "\n",
    "for i in range(brand_data.shape[0]):\n",
    "     train_vec[i] = list(train_vec[i])\n",
    "     score =  float(cosine_similarity([train_vec[i]],test_vec))\n",
    "     sim_score.append(score)\n",
    "\n",
    "max_row = sim_score.index(max(sim_score))\n",
    "recommendation(data.loc[max_row,\"product_id\"])"
   ]
  },
  {
   "cell_type": "markdown",
   "metadata": {},
   "source": [
    "# Method 3 - One Hot Encoding + Cosine Similarity"
   ]
  },
  {
   "cell_type": "code",
   "execution_count": 20,
   "metadata": {},
   "outputs": [
    {
     "data": {
      "text/html": [
       "<div>\n",
       "<style scoped>\n",
       "    .dataframe tbody tr th:only-of-type {\n",
       "        vertical-align: middle;\n",
       "    }\n",
       "\n",
       "    .dataframe tbody tr th {\n",
       "        vertical-align: top;\n",
       "    }\n",
       "\n",
       "    .dataframe thead th {\n",
       "        text-align: right;\n",
       "    }\n",
       "</style>\n",
       "<table border=\"1\" class=\"dataframe\">\n",
       "  <thead>\n",
       "    <tr style=\"text-align: right;\">\n",
       "      <th></th>\n",
       "      <th>01</th>\n",
       "      <th>06</th>\n",
       "      <th>100</th>\n",
       "      <th>100mm</th>\n",
       "      <th>105</th>\n",
       "      <th>105mm</th>\n",
       "      <th>12</th>\n",
       "      <th>15mm</th>\n",
       "      <th>1774</th>\n",
       "      <th>19</th>\n",
       "      <th>...</th>\n",
       "      <th>wrapped</th>\n",
       "      <th>wraps</th>\n",
       "      <th>www</th>\n",
       "      <th>years</th>\n",
       "      <th>young</th>\n",
       "      <th>zebra</th>\n",
       "      <th>zip</th>\n",
       "      <th>zipper</th>\n",
       "      <th>zippers</th>\n",
       "      <th>zoom</th>\n",
       "    </tr>\n",
       "  </thead>\n",
       "  <tbody>\n",
       "    <tr>\n",
       "      <td>0</td>\n",
       "      <td>0</td>\n",
       "      <td>0</td>\n",
       "      <td>0</td>\n",
       "      <td>0</td>\n",
       "      <td>0</td>\n",
       "      <td>0</td>\n",
       "      <td>0</td>\n",
       "      <td>0</td>\n",
       "      <td>0</td>\n",
       "      <td>0</td>\n",
       "      <td>...</td>\n",
       "      <td>0</td>\n",
       "      <td>0</td>\n",
       "      <td>0</td>\n",
       "      <td>0</td>\n",
       "      <td>0</td>\n",
       "      <td>0</td>\n",
       "      <td>0</td>\n",
       "      <td>0</td>\n",
       "      <td>0</td>\n",
       "      <td>0</td>\n",
       "    </tr>\n",
       "    <tr>\n",
       "      <td>1</td>\n",
       "      <td>0</td>\n",
       "      <td>0</td>\n",
       "      <td>0</td>\n",
       "      <td>0</td>\n",
       "      <td>0</td>\n",
       "      <td>0</td>\n",
       "      <td>0</td>\n",
       "      <td>0</td>\n",
       "      <td>0</td>\n",
       "      <td>0</td>\n",
       "      <td>...</td>\n",
       "      <td>0</td>\n",
       "      <td>0</td>\n",
       "      <td>0</td>\n",
       "      <td>0</td>\n",
       "      <td>0</td>\n",
       "      <td>0</td>\n",
       "      <td>0</td>\n",
       "      <td>0</td>\n",
       "      <td>0</td>\n",
       "      <td>0</td>\n",
       "    </tr>\n",
       "    <tr>\n",
       "      <td>2</td>\n",
       "      <td>0</td>\n",
       "      <td>0</td>\n",
       "      <td>0</td>\n",
       "      <td>0</td>\n",
       "      <td>0</td>\n",
       "      <td>0</td>\n",
       "      <td>0</td>\n",
       "      <td>0</td>\n",
       "      <td>0</td>\n",
       "      <td>0</td>\n",
       "      <td>...</td>\n",
       "      <td>0</td>\n",
       "      <td>0</td>\n",
       "      <td>0</td>\n",
       "      <td>0</td>\n",
       "      <td>0</td>\n",
       "      <td>0</td>\n",
       "      <td>0</td>\n",
       "      <td>0</td>\n",
       "      <td>0</td>\n",
       "      <td>0</td>\n",
       "    </tr>\n",
       "    <tr>\n",
       "      <td>3</td>\n",
       "      <td>0</td>\n",
       "      <td>0</td>\n",
       "      <td>0</td>\n",
       "      <td>0</td>\n",
       "      <td>0</td>\n",
       "      <td>0</td>\n",
       "      <td>0</td>\n",
       "      <td>0</td>\n",
       "      <td>0</td>\n",
       "      <td>0</td>\n",
       "      <td>...</td>\n",
       "      <td>0</td>\n",
       "      <td>0</td>\n",
       "      <td>0</td>\n",
       "      <td>0</td>\n",
       "      <td>0</td>\n",
       "      <td>0</td>\n",
       "      <td>0</td>\n",
       "      <td>0</td>\n",
       "      <td>0</td>\n",
       "      <td>0</td>\n",
       "    </tr>\n",
       "    <tr>\n",
       "      <td>4</td>\n",
       "      <td>0</td>\n",
       "      <td>0</td>\n",
       "      <td>0</td>\n",
       "      <td>0</td>\n",
       "      <td>0</td>\n",
       "      <td>0</td>\n",
       "      <td>0</td>\n",
       "      <td>0</td>\n",
       "      <td>0</td>\n",
       "      <td>0</td>\n",
       "      <td>...</td>\n",
       "      <td>0</td>\n",
       "      <td>0</td>\n",
       "      <td>0</td>\n",
       "      <td>0</td>\n",
       "      <td>0</td>\n",
       "      <td>0</td>\n",
       "      <td>0</td>\n",
       "      <td>0</td>\n",
       "      <td>0</td>\n",
       "      <td>0</td>\n",
       "    </tr>\n",
       "  </tbody>\n",
       "</table>\n",
       "<p>5 rows × 1269 columns</p>\n",
       "</div>"
      ],
      "text/plain": [
       "   01  06  100  100mm  105  105mm  12  15mm  1774  19  ...  wrapped  wraps  \\\n",
       "0   0   0    0      0    0      0   0     0     0   0  ...        0      0   \n",
       "1   0   0    0      0    0      0   0     0     0   0  ...        0      0   \n",
       "2   0   0    0      0    0      0   0     0     0   0  ...        0      0   \n",
       "3   0   0    0      0    0      0   0     0     0   0  ...        0      0   \n",
       "4   0   0    0      0    0      0   0     0     0   0  ...        0      0   \n",
       "\n",
       "   www  years  young  zebra  zip  zipper  zippers  zoom  \n",
       "0    0      0      0      0    0       0        0     0  \n",
       "1    0      0      0      0    0       0        0     0  \n",
       "2    0      0      0      0    0       0        0     0  \n",
       "3    0      0      0      0    0       0        0     0  \n",
       "4    0      0      0      0    0       0        0     0  \n",
       "\n",
       "[5 rows x 1269 columns]"
      ]
     },
     "execution_count": 20,
     "metadata": {},
     "output_type": "execute_result"
    }
   ],
   "source": [
    "vectorizer = CountVectorizer(stop_words=\"english\", binary=True)\n",
    "H = vectorizer.fit(data_list)\n",
    "train_vec = H.transform(data_list)\n",
    "train_vec_df = pd.DataFrame(train_vec.toarray(), columns=vectorizer.get_feature_names())\n",
    "train_vec_df.head()"
   ]
  },
  {
   "cell_type": "code",
   "execution_count": 23,
   "metadata": {},
   "outputs": [],
   "source": [
    "test_vec = H.transform(test_desc).toarray()\n",
    "test_vec = [list(test_vec[0])]"
   ]
  },
  {
   "cell_type": "code",
   "execution_count": 24,
   "metadata": {},
   "outputs": [
    {
     "name": "stdout",
     "output_type": "stream",
     "text": [
      "Outfit type for product id 01DMBRYVA2ZFDYRYY5TRQZJTBD is : shoe \n",
      "\n",
      "Matching Outfit ID is : 01DDBHC62ES5K80P0KYJ56AM2T \n",
      "\n"
     ]
    },
    {
     "data": {
      "text/plain": [
       "0    bottom: Slim Knit Skirt (01DMBRYVA2P5H24WK0HTK...\n",
       "1    top: Rib Mock Neck Tank (01DMBRYVA2PEPWFTT7RMP...\n",
       "2    accessory1: medium margaux leather satchel (01...\n",
       "3    shoe: Penelope Mid Cap Toe Pump (01DMBRYVA2ZFD...\n",
       "dtype: object"
      ]
     },
     "execution_count": 24,
     "metadata": {},
     "output_type": "execute_result"
    }
   ],
   "source": [
    "sim_score = []\n",
    "\n",
    "for i in range(brand_data.shape[0]):\n",
    "    train_vec = list(train_vec_df.iloc[i,:])\n",
    "    score =  float(cosine_similarity([train_vec],test_vec))\n",
    "    sim_score.append(score)\n",
    "\n",
    "max_row = sim_score.index(max(sim_score))\n",
    "recommendation(brand_data.loc[max_row,\"product_id\"])"
   ]
  }
 ],
 "metadata": {
  "kernelspec": {
   "display_name": "Python 3",
   "language": "python",
   "name": "python3"
  },
  "language_info": {
   "codemirror_mode": {
    "name": "ipython",
    "version": 3
   },
   "file_extension": ".py",
   "mimetype": "text/x-python",
   "name": "python",
   "nbconvert_exporter": "python",
   "pygments_lexer": "ipython3",
   "version": "3.7.6"
  }
 },
 "nbformat": 4,
 "nbformat_minor": 4
}
